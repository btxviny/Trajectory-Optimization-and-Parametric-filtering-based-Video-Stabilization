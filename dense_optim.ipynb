{
 "cells": [
  {
   "cell_type": "code",
   "execution_count": 1,
   "metadata": {},
   "outputs": [],
   "source": [
    "import torch\n",
    "import torch.nn as nn\n",
    "import torch.nn.functional as F\n",
    "import numpy as np\n",
    "import cv2\n",
    "import os\n",
    "import matplotlib.pyplot as plt\n",
    "from feature_stabilization import stabilize_video\n",
    "from time import sleep\n",
    "from torchvision import transforms, models\n",
    "import warnings\n",
    "warnings.filterwarnings(\"ignore\")\n",
    "device = 'cuda'\n",
    "h,w = 128,128\n",
    "H,W = 720,1024"
   ]
  },
  {
   "cell_type": "code",
   "execution_count": 2,
   "metadata": {},
   "outputs": [],
   "source": [
    "def show_flow(flow):\n",
    "    hsv_mask = np.zeros(shape= flow.shape[:-1] +(3,),dtype = np.uint8)\n",
    "    hsv_mask[...,1] = 255\n",
    "    mag, ang = cv2.cartToPolar(flow[...,0], flow[...,1],angleInDegrees=True)\n",
    "    hsv_mask[:,:,0] = ang /2 \n",
    "    hsv_mask[:,:,2] = cv2.normalize(mag,None,0,255,cv2.NORM_MINMAX)\n",
    "    rgb = cv2.cvtColor(hsv_mask,cv2.COLOR_HSV2RGB)\n",
    "    return(rgb)\n",
    "def warpFlow(img, flow):\n",
    "    h, w = flow.shape[:2]\n",
    "    flow = -flow\n",
    "    flow[:,:,0] += np.arange(w)\n",
    "    flow[:,:,1] += np.arange(h)[:,np.newaxis]\n",
    "    warped = cv2.remap(img, flow, None, cv2.INTER_LINEAR)\n",
    "    return(warped)\n",
    "def fixBorder(frame, cropping = 1.02):\n",
    "    s = frame.shape\n",
    "    # Scale the image 4% without moving the center\n",
    "    T = cv2.getRotationMatrix2D((s[1] / 2, s[0] / 2), 0, cropping)\n",
    "    frame = cv2.warpAffine(frame, T, (s[1], s[0]))\n",
    "    return frame"
   ]
  },
  {
   "cell_type": "code",
   "execution_count": 3,
   "metadata": {},
   "outputs": [],
   "source": [
    "def get_flow(img1,img2,raft):\n",
    "    img1 = torch.from_numpy((img1 / 255.0)*2 -1).float().unsqueeze(0).permute(0,3,1,2).to(device) \n",
    "    img2 = torch.from_numpy((img2 / 255.0)*2 -1).float().unsqueeze(0).permute(0,3,1,2).to(device)\n",
    "    with torch.no_grad():\n",
    "        flow = raft(img1,img2)[-1]\n",
    "    return flow.squeeze(0).permute(1,2,0).cpu().numpy()"
   ]
  },
  {
   "cell_type": "code",
   "execution_count": 4,
   "metadata": {},
   "outputs": [],
   "source": [
    "path = 'E:/Datasets/DeepStab_Dataset/unstable/18.avi'\n",
    "#path = './data/Zooming/1.avi'\n",
    "cap = cv2.VideoCapture(path)\n",
    "frames = []\n",
    "while True:\n",
    "    ret,frame = cap.read()\n",
    "    if not ret: break\n",
    "    frame = cv2.resize(frame,(W,H))\n",
    "    frames.append(frame)\n",
    "cap.release()\n",
    "frames = np.array(frames, np.uint8)"
   ]
  },
  {
   "cell_type": "code",
   "execution_count": 5,
   "metadata": {},
   "outputs": [],
   "source": [
    "stable_frames = frames"
   ]
  },
  {
   "cell_type": "code",
   "execution_count": 6,
   "metadata": {},
   "outputs": [
    {
     "name": "stdout",
     "output_type": "stream",
     "text": [
      " idx: 249/250"
     ]
    }
   ],
   "source": [
    "raft = models.optical_flow.raft_small(weights = 'Raft_Small_Weights.C_T_V2').eval().to(device)\n",
    "\n",
    "cv2.namedWindow('window',cv2.WINDOW_NORMAL)\n",
    "num_frames= stable_frames.shape[0]\n",
    "flows = np.zeros((num_frames,h,w,2),dtype = np.float32)\n",
    "prev = cv2.resize(stable_frames[0,...],(w,h))\n",
    "for idx in range(1,num_frames-1):\n",
    "    curr = cv2.resize(stable_frames[idx,...],(w,h))\n",
    "    flows[idx,...] = get_flow(prev,curr,raft)\n",
    "    rgb_flow = show_flow(flows[idx,...])\n",
    "    prev = curr\n",
    "    print(f'\\r idx: {idx+1}/{num_frames}',end='')\n",
    "    cv2.imshow('window',rgb_flow)\n",
    "    if cv2.waitKey(1) & 0xFF == ord(' '):\n",
    "        break\n",
    "cv2.destroyAllWindows()\n",
    "\n",
    "del raft"
   ]
  },
  {
   "cell_type": "code",
   "execution_count": 7,
   "metadata": {},
   "outputs": [
    {
     "name": "stdout",
     "output_type": "stream",
     "text": [
      "Memory size :31.25 MB\n"
     ]
    }
   ],
   "source": [
    "original_trajectories = np.cumsum(flows,axis = 0)\n",
    "original_trajectories = torch.from_numpy(original_trajectories).float().to(device)\n",
    "bytes_size = original_trajectories.element_size() * original_trajectories.nelement()\n",
    "smooth_trajectories = original_trajectories.clone().requires_grad_(True)\n",
    "print(f'Memory size :{bytes_size / (1024 ** 2)} MB')"
   ]
  },
  {
   "cell_type": "code",
   "execution_count": 8,
   "metadata": {},
   "outputs": [
    {
     "name": "stdout",
     "output_type": "stream",
     "text": [
      "Step 499, Loss: 0.8519008159637451"
     ]
    }
   ],
   "source": [
    "lr = 1\n",
    "optimizer = torch.optim.Adam([smooth_trajectories], lr=lr)\n",
    "ITERATIONS = 500\n",
    "for step in range(ITERATIONS):\n",
    "    # Calculate the deviation from the original trajectories\n",
    "    deviation_term = 0.2 * torch.mean((smooth_trajectories - original_trajectories)**2)\n",
    "    \n",
    "    # Calculate the smoothness term\n",
    "    smoothness_term =  20 * torch.mean((smooth_trajectories[1:] - smooth_trajectories[:-1])**2)\n",
    "    # Balance the two terms using a parameter alpha\n",
    "    loss = smoothness_term #+ deviation_term\n",
    "\n",
    "    # Perform backpropagation\n",
    "    optimizer.zero_grad()\n",
    "    loss.backward()\n",
    "    optimizer.step()\n",
    "\n",
    "    print(f'\\rStep {step}, Loss: {loss.item()}',end='')"
   ]
  },
  {
   "cell_type": "code",
   "execution_count": 9,
   "metadata": {},
   "outputs": [
    {
     "data": {
      "text/plain": [
       "torch.Size([250, 128, 128, 2])"
      ]
     },
     "execution_count": 9,
     "metadata": {},
     "output_type": "execute_result"
    }
   ],
   "source": [
    "smooth_trajectories.shape"
   ]
  },
  {
   "cell_type": "code",
   "execution_count": 11,
   "metadata": {},
   "outputs": [
    {
     "data": {
      "image/png": "[encoded data removed]",
      "text/plain": [
       "<Figure size 640x480 with 1 Axes>"
      ]
     },
     "metadata": {},
     "output_type": "display_data"
    }
   ],
   "source": [
    "smooth_trajectories = smooth_trajectories.cpu().detach()\n",
    "original_trajectories = original_trajectories.cpu()\n",
    "warps = smooth_trajectories - original_trajectories\n",
    "plt.plot(original_trajectories[:,10,10,0], color = 'c',label = 'Original Path')\n",
    "plt.plot(smooth_trajectories[:,10,10,0], color = 'y', label = 'Smoothed Path')\n",
    "plt.xticks([])\n",
    "plt.yticks([])\n",
    "plt.legend()\n",
    "plt.show()"
   ]
  },
  {
   "cell_type": "code",
   "execution_count": 19,
   "metadata": {},
   "outputs": [],
   "source": [
    "def gaussian_blur(input, kernel_size, sigma):\n",
    "    device  = input.device\n",
    "    x = torch.arange(-kernel_size // 2 + 1., kernel_size // 2 + 1.)\n",
    "    y = torch.arange(-kernel_size // 2 + 1., kernel_size // 2 + 1.)\n",
    "    xx, yy = torch.meshgrid(x, y)\n",
    "    kernel = torch.exp(-(xx**2 + yy**2) / (2.0 * sigma**2))\n",
    "    kernel = kernel / torch.sum(kernel)\n",
    "\n",
    "    # Assuming the input is in the shape (batch_size, channels, height, width)\n",
    "    channels = input.shape[1]\n",
    "    kernel = kernel.unsqueeze(0).unsqueeze(0).repeat(channels, channels, 1, 1).to(device)\n",
    "\n",
    "    padding = kernel_size // 2\n",
    "    blurred = F.conv2d(input, kernel, padding=padding)\n",
    "    return blurred"
   ]
  },
  {
   "cell_type": "code",
   "execution_count": 20,
   "metadata": {},
   "outputs": [],
   "source": [
    "blurred_flows = gaussian_blur(warps.permute(0,3,1,2),kernel_size=5,sigma=1).cpu()\n",
    "blurred_flows = blurred_flows.permute(0,2,3,1).numpy()"
   ]
  },
  {
   "cell_type": "code",
   "execution_count": 21,
   "metadata": {},
   "outputs": [],
   "source": [
    "cv2.namedWindow('window',cv2.WINDOW_NORMAL)\n",
    "fourcc = cv2.VideoWriter_fourcc(*'mp4v')\n",
    "out = cv2.VideoWriter('./2.avi', fourcc, 30.0, (W, H))\n",
    "warped_frames = stable_frames.copy()\n",
    "for idx in range(num_frames):\n",
    "    flow = cv2.resize(blurred_flows[idx,...],(W,H))\n",
    "    img = warped_frames[idx,...] \n",
    "    warped = warpFlow(img,flow)\n",
    "    warped = fixBorder(warped,cropping=1.0)\n",
    "    warped_frames[idx,...] = warped \n",
    "    out.write(warped)\n",
    "    cv2.imshow('window',warped)\n",
    "    sleep(1/30)\n",
    "    if cv2.waitKey(1) & 0xFF == ord(' '):\n",
    "        break\n",
    "cv2.destroyAllWindows()\n",
    "out.release()"
   ]
  },
  {
   "cell_type": "code",
   "execution_count": 22,
   "metadata": {},
   "outputs": [
    {
     "name": "stdout",
     "output_type": "stream",
     "text": [
      "Frame: 446/447\n",
      "cropping score:1.000\tdistortion score:0.982\tstability:0.669\tpixel:0.986\n"
     ]
    },
    {
     "data": {
      "text/plain": [
       "(0.9997905526255594, 0.9819316, 0.6694580013524283, 0.9859652817249298)"
      ]
     },
     "execution_count": 22,
     "metadata": {},
     "output_type": "execute_result"
    }
   ],
   "source": [
    "from metrics import metric\n",
    "metric('E:/Datasets/DeepStab_Dataset/unstable/2.avi','2.avi')"
   ]
  }
 ],
 "metadata": {
  "kernelspec": {
   "display_name": "DUTCode",
   "language": "python",
   "name": "python3"
  },
  "language_info": {
   "codemirror_mode": {
    "name": "ipython",
    "version": 3
   },
   "file_extension": ".py",
   "mimetype": "text/x-python",
   "name": "python",
   "nbconvert_exporter": "python",
   "pygments_lexer": "ipython3",
   "version": "3.9.18"
  },
  "orig_nbformat": 4
 },
 "nbformat": 4,
 "nbformat_minor": 2
}
